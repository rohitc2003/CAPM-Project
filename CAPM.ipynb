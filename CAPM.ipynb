{
 "cells": [
  {
   "cell_type": "code",
   "execution_count": 1,
   "id": "e21c0ef3",
   "metadata": {},
   "outputs": [],
   "source": [
    "from scipy import stats\n",
    "import numpy as np\n",
    "import pandas as pd\n",
    "import pandas_datareader as web\n",
    "import datetime\n",
    "import matplotlib.pyplot as plot\n",
    "%matplotlib inline"
   ]
  },
  {
   "cell_type": "code",
   "execution_count": 2,
   "id": "163bc38a",
   "metadata": {},
   "outputs": [],
   "source": [
    "start = datetime.datetime(2021,1,1 )\n",
    "end =datetime.datetime(2022,1,1 )\n",
    "\n"
   ]
  },
  {
   "cell_type": "code",
   "execution_count": 3,
   "id": "70f1082d",
   "metadata": {},
   "outputs": [
    {
     "data": {
      "text/html": [
       "<div>\n",
       "<style scoped>\n",
       "    .dataframe tbody tr th:only-of-type {\n",
       "        vertical-align: middle;\n",
       "    }\n",
       "\n",
       "    .dataframe tbody tr th {\n",
       "        vertical-align: top;\n",
       "    }\n",
       "\n",
       "    .dataframe thead th {\n",
       "        text-align: right;\n",
       "    }\n",
       "</style>\n",
       "<table border=\"1\" class=\"dataframe\">\n",
       "  <thead>\n",
       "    <tr style=\"text-align: right;\">\n",
       "      <th></th>\n",
       "      <th>High</th>\n",
       "      <th>Low</th>\n",
       "      <th>Open</th>\n",
       "      <th>Close</th>\n",
       "      <th>Volume</th>\n",
       "      <th>Adj Close</th>\n",
       "    </tr>\n",
       "    <tr>\n",
       "      <th>Date</th>\n",
       "      <th></th>\n",
       "      <th></th>\n",
       "      <th></th>\n",
       "      <th></th>\n",
       "      <th></th>\n",
       "      <th></th>\n",
       "    </tr>\n",
       "  </thead>\n",
       "  <tbody>\n",
       "    <tr>\n",
       "      <th>2021-01-01</th>\n",
       "      <td>14049.849609</td>\n",
       "      <td>13991.349609</td>\n",
       "      <td>13996.099609</td>\n",
       "      <td>14018.500000</td>\n",
       "      <td>358100</td>\n",
       "      <td>14018.500000</td>\n",
       "    </tr>\n",
       "    <tr>\n",
       "      <th>2021-01-04</th>\n",
       "      <td>14147.950195</td>\n",
       "      <td>13953.750000</td>\n",
       "      <td>14104.349609</td>\n",
       "      <td>14132.900391</td>\n",
       "      <td>495000</td>\n",
       "      <td>14132.900391</td>\n",
       "    </tr>\n",
       "    <tr>\n",
       "      <th>2021-01-05</th>\n",
       "      <td>14215.599609</td>\n",
       "      <td>14048.150391</td>\n",
       "      <td>14075.150391</td>\n",
       "      <td>14199.500000</td>\n",
       "      <td>492500</td>\n",
       "      <td>14199.500000</td>\n",
       "    </tr>\n",
       "    <tr>\n",
       "      <th>2021-01-06</th>\n",
       "      <td>14244.150391</td>\n",
       "      <td>14039.900391</td>\n",
       "      <td>14240.950195</td>\n",
       "      <td>14146.250000</td>\n",
       "      <td>632300</td>\n",
       "      <td>14146.250000</td>\n",
       "    </tr>\n",
       "    <tr>\n",
       "      <th>2021-01-07</th>\n",
       "      <td>14256.250000</td>\n",
       "      <td>14123.099609</td>\n",
       "      <td>14253.750000</td>\n",
       "      <td>14137.349609</td>\n",
       "      <td>559200</td>\n",
       "      <td>14137.349609</td>\n",
       "    </tr>\n",
       "  </tbody>\n",
       "</table>\n",
       "</div>"
      ],
      "text/plain": [
       "                    High           Low          Open         Close  Volume  \\\n",
       "Date                                                                         \n",
       "2021-01-01  14049.849609  13991.349609  13996.099609  14018.500000  358100   \n",
       "2021-01-04  14147.950195  13953.750000  14104.349609  14132.900391  495000   \n",
       "2021-01-05  14215.599609  14048.150391  14075.150391  14199.500000  492500   \n",
       "2021-01-06  14244.150391  14039.900391  14240.950195  14146.250000  632300   \n",
       "2021-01-07  14256.250000  14123.099609  14253.750000  14137.349609  559200   \n",
       "\n",
       "               Adj Close  \n",
       "Date                      \n",
       "2021-01-01  14018.500000  \n",
       "2021-01-04  14132.900391  \n",
       "2021-01-05  14199.500000  \n",
       "2021-01-06  14146.250000  \n",
       "2021-01-07  14137.349609  "
      ]
     },
     "execution_count": 3,
     "metadata": {},
     "output_type": "execute_result"
    }
   ],
   "source": [
    "df_nifty=web.DataReader('^NSEI','yahoo',start,end)\n",
    "df_nifty.head()"
   ]
  },
  {
   "cell_type": "code",
   "execution_count": 4,
   "id": "e46a9d95",
   "metadata": {},
   "outputs": [
    {
     "data": {
      "text/html": [
       "<div>\n",
       "<style scoped>\n",
       "    .dataframe tbody tr th:only-of-type {\n",
       "        vertical-align: middle;\n",
       "    }\n",
       "\n",
       "    .dataframe tbody tr th {\n",
       "        vertical-align: top;\n",
       "    }\n",
       "\n",
       "    .dataframe thead th {\n",
       "        text-align: right;\n",
       "    }\n",
       "</style>\n",
       "<table border=\"1\" class=\"dataframe\">\n",
       "  <thead>\n",
       "    <tr style=\"text-align: right;\">\n",
       "      <th></th>\n",
       "      <th>High</th>\n",
       "      <th>Low</th>\n",
       "      <th>Open</th>\n",
       "      <th>Close</th>\n",
       "      <th>Volume</th>\n",
       "      <th>Adj Close</th>\n",
       "    </tr>\n",
       "    <tr>\n",
       "      <th>Date</th>\n",
       "      <th></th>\n",
       "      <th></th>\n",
       "      <th></th>\n",
       "      <th></th>\n",
       "      <th></th>\n",
       "      <th></th>\n",
       "    </tr>\n",
       "  </thead>\n",
       "  <tbody>\n",
       "    <tr>\n",
       "      <th>2021-01-01</th>\n",
       "      <td>5338.000000</td>\n",
       "      <td>5250.000000</td>\n",
       "      <td>5310.200195</td>\n",
       "      <td>5280.149902</td>\n",
       "      <td>1447187.0</td>\n",
       "      <td>5271.631836</td>\n",
       "    </tr>\n",
       "    <tr>\n",
       "      <th>2021-01-04</th>\n",
       "      <td>5324.000000</td>\n",
       "      <td>5196.200195</td>\n",
       "      <td>5324.000000</td>\n",
       "      <td>5216.200195</td>\n",
       "      <td>2333659.0</td>\n",
       "      <td>5207.785156</td>\n",
       "    </tr>\n",
       "    <tr>\n",
       "      <th>2021-01-05</th>\n",
       "      <td>5224.200195</td>\n",
       "      <td>5062.500000</td>\n",
       "      <td>5218.000000</td>\n",
       "      <td>5119.000000</td>\n",
       "      <td>3953400.0</td>\n",
       "      <td>5110.741699</td>\n",
       "    </tr>\n",
       "    <tr>\n",
       "      <th>2021-01-06</th>\n",
       "      <td>5168.350098</td>\n",
       "      <td>4990.299805</td>\n",
       "      <td>5130.000000</td>\n",
       "      <td>5030.299805</td>\n",
       "      <td>3607923.0</td>\n",
       "      <td>5022.184570</td>\n",
       "    </tr>\n",
       "    <tr>\n",
       "      <th>2021-01-07</th>\n",
       "      <td>5131.549805</td>\n",
       "      <td>5021.299805</td>\n",
       "      <td>5065.000000</td>\n",
       "      <td>5081.000000</td>\n",
       "      <td>3035750.0</td>\n",
       "      <td>5072.803223</td>\n",
       "    </tr>\n",
       "  </tbody>\n",
       "</table>\n",
       "</div>"
      ],
      "text/plain": [
       "                   High          Low         Open        Close     Volume  \\\n",
       "Date                                                                        \n",
       "2021-01-01  5338.000000  5250.000000  5310.200195  5280.149902  1447187.0   \n",
       "2021-01-04  5324.000000  5196.200195  5324.000000  5216.200195  2333659.0   \n",
       "2021-01-05  5224.200195  5062.500000  5218.000000  5119.000000  3953400.0   \n",
       "2021-01-06  5168.350098  4990.299805  5130.000000  5030.299805  3607923.0   \n",
       "2021-01-07  5131.549805  5021.299805  5065.000000  5081.000000  3035750.0   \n",
       "\n",
       "              Adj Close  \n",
       "Date                     \n",
       "2021-01-01  5271.631836  \n",
       "2021-01-04  5207.785156  \n",
       "2021-01-05  5110.741699  \n",
       "2021-01-06  5022.184570  \n",
       "2021-01-07  5072.803223  "
      ]
     },
     "execution_count": 4,
     "metadata": {},
     "output_type": "execute_result"
    }
   ],
   "source": [
    "df_bajaj=web.DataReader('BAJFINANCE.NS','yahoo',start,end)\n",
    "df_bajaj.head()"
   ]
  },
  {
   "cell_type": "code",
   "execution_count": 5,
   "id": "3da690a5",
   "metadata": {},
   "outputs": [
    {
     "data": {
      "text/plain": [
       "<matplotlib.legend.Legend at 0x25f785bbf40>"
      ]
     },
     "execution_count": 5,
     "metadata": {},
     "output_type": "execute_result"
    },
    {
     "data": {
      "image/png": "[encoded data removed]",
      "text/plain": [
       "<Figure size 720x576 with 1 Axes>"
      ]
     },
     "metadata": {
      "needs_background": "light"
     },
     "output_type": "display_data"
    }
   ],
   "source": [
    "df_bajaj['Close'].plot(label = 'BAJAJ Finanace', figsize=(10,8))\n",
    "df_nifty['Close'].plot(label = '^NSEI')\n",
    "plot.legend()"
   ]
  },
  {
   "cell_type": "code",
   "execution_count": 6,
   "id": "aef0f62e",
   "metadata": {},
   "outputs": [
    {
     "data": {
      "text/plain": [
       "<matplotlib.legend.Legend at 0x25f7da03c10>"
      ]
     },
     "execution_count": 6,
     "metadata": {},
     "output_type": "execute_result"
    },
    {
     "data": {
      "image/png": "[encoded data removed]",
      "text/plain": [
       "<Figure size 720x576 with 1 Axes>"
      ]
     },
     "metadata": {
      "needs_background": "light"
     },
     "output_type": "display_data"
    }
   ],
   "source": [
    "df_bajaj['Cumu'] = df_bajaj['Close']/df_bajaj['Close'].iloc[0]\n",
    "df_bajaj['Cumu'].plot(label = 'BAJAJ Finance', figsize=(10,8))\n",
    "\n",
    "df_nifty['Cumu'] = df_nifty['Close']/df_nifty['Close'].iloc[0]\n",
    "df_nifty['Cumu'].plot(label = 'NIFTY')\n",
    "\n",
    "plot.legend()"
   ]
  },
  {
   "cell_type": "code",
   "execution_count": 7,
   "id": "9d73a297",
   "metadata": {},
   "outputs": [
    {
     "name": "stdout",
     "output_type": "stream",
     "text": [
      "248\n",
      "248\n"
     ]
    },
    {
     "data": {
      "text/plain": [
       "<matplotlib.collections.PathCollection at 0x25f7dd32b50>"
      ]
     },
     "execution_count": 7,
     "metadata": {},
     "output_type": "execute_result"
    },
    {
     "data": {
      "image/png": "[encoded data removed]",
      "text/plain": [
       "<Figure size 432x288 with 1 Axes>"
      ]
     },
     "metadata": {
      "needs_background": "light"
     },
     "output_type": "display_data"
    }
   ],
   "source": [
    "df_bajaj['daily_ret'] = df_bajaj['Close'].pct_change(1) \n",
    "\n",
    "df_nifty['daily_ret'] = df_nifty['Close'].pct_change(1)\n",
    "df_nifty['daily_ret']\n",
    "\n",
    "print(len(df_bajaj['Close'].pct_change(1)))\n",
    "print(len(df_nifty['Close'].pct_change(1)))\n",
    "plot.scatter(df_bajaj['daily_ret'] ,df_nifty['daily_ret'] )\n"
   ]
  },
  {
   "cell_type": "code",
   "execution_count": 8,
   "id": "50eaa669",
   "metadata": {},
   "outputs": [],
   "source": [
    "slope, intercept, r_value, p_value, std_err = stats.linregress(df_bajaj['daily_ret'].iloc[1:],df_nifty['daily_ret'].iloc[1:])\n"
   ]
  },
  {
   "cell_type": "code",
   "execution_count": 9,
   "id": "0c37c289",
   "metadata": {},
   "outputs": [
    {
     "name": "stdout",
     "output_type": "stream",
     "text": [
      "0.3028960742957344\n",
      "0.0005058653732726758\n"
     ]
    }
   ],
   "source": [
    "beta=slope\n",
    "print(slope)\n",
    "alpha=intercept\n",
    "\n",
    "print(intercept)"
   ]
  },
  {
   "cell_type": "code",
   "execution_count": 25,
   "id": "a002b4f1",
   "metadata": {},
   "outputs": [
    {
     "data": {
      "text/plain": [
       "<matplotlib.collections.PathCollection at 0x25f066f8c40>"
      ]
     },
     "execution_count": 25,
     "metadata": {},
     "output_type": "execute_result"
    },
    {
     "data": {
      "image/png": "[encoded data removed]",
      "text/plain": [
       "<Figure size 432x288 with 1 Axes>"
      ]
     },
     "metadata": {
      "needs_background": "light"
     },
     "output_type": "display_data"
    }
   ],
   "source": [
    "plot.scatter(df_bajaj['daily_ret'],df_nifty['daily_ret'])\n",
    "\n",
    "y_hat=( beta * df_bajaj['daily_ret']) + alpha\n",
    "\n",
    "\n",
    "plot.scatter(df_bajaj['daily_ret'], y_hat, color=\"green\" ,)"
   ]
  },
  {
   "cell_type": "code",
   "execution_count": 26,
   "id": "d28a4515",
   "metadata": {},
   "outputs": [
    {
     "data": {
      "text/html": [
       "<div>\n",
       "<style scoped>\n",
       "    .dataframe tbody tr th:only-of-type {\n",
       "        vertical-align: middle;\n",
       "    }\n",
       "\n",
       "    .dataframe tbody tr th {\n",
       "        vertical-align: top;\n",
       "    }\n",
       "\n",
       "    .dataframe thead th {\n",
       "        text-align: right;\n",
       "    }\n",
       "</style>\n",
       "<table border=\"1\" class=\"dataframe\">\n",
       "  <thead>\n",
       "    <tr style=\"text-align: right;\">\n",
       "      <th></th>\n",
       "      <th>High</th>\n",
       "      <th>Low</th>\n",
       "      <th>Open</th>\n",
       "      <th>Close</th>\n",
       "      <th>Volume</th>\n",
       "      <th>Adj Close</th>\n",
       "    </tr>\n",
       "    <tr>\n",
       "      <th>Date</th>\n",
       "      <th></th>\n",
       "      <th></th>\n",
       "      <th></th>\n",
       "      <th></th>\n",
       "      <th></th>\n",
       "      <th></th>\n",
       "    </tr>\n",
       "  </thead>\n",
       "  <tbody>\n",
       "    <tr>\n",
       "      <th>2021-09-01</th>\n",
       "      <td>7674.5</td>\n",
       "      <td>7483.350098</td>\n",
       "      <td>7525</td>\n",
       "      <td>7519.600098</td>\n",
       "      <td>2227789</td>\n",
       "      <td>7519.600098</td>\n",
       "    </tr>\n",
       "  </tbody>\n",
       "</table>\n",
       "</div>"
      ],
      "text/plain": [
       "              High          Low  Open        Close   Volume    Adj Close\n",
       "Date                                                                    \n",
       "2021-09-01  7674.5  7483.350098  7525  7519.600098  2227789  7519.600098"
      ]
     },
     "execution_count": 26,
     "metadata": {},
     "output_type": "execute_result"
    }
   ],
   "source": [
    "START=datetime.datetime(2021,9,1)\n",
    "END=datetime.datetime(2021,9,1)\n",
    "df_BAJAJ=web.DataReader('BAJFINANCE.NS','yahoo',START,END)\n",
    "\n",
    "df_BAJAJ.head()"
   ]
  },
  {
   "cell_type": "code",
   "execution_count": 12,
   "id": "d60aae04",
   "metadata": {},
   "outputs": [
    {
     "data": {
      "text/html": [
       "<div>\n",
       "<style scoped>\n",
       "    .dataframe tbody tr th:only-of-type {\n",
       "        vertical-align: middle;\n",
       "    }\n",
       "\n",
       "    .dataframe tbody tr th {\n",
       "        vertical-align: top;\n",
       "    }\n",
       "\n",
       "    .dataframe thead th {\n",
       "        text-align: right;\n",
       "    }\n",
       "</style>\n",
       "<table border=\"1\" class=\"dataframe\">\n",
       "  <thead>\n",
       "    <tr style=\"text-align: right;\">\n",
       "      <th></th>\n",
       "      <th>High</th>\n",
       "      <th>Low</th>\n",
       "      <th>Open</th>\n",
       "      <th>Close</th>\n",
       "      <th>Volume</th>\n",
       "      <th>Adj Close</th>\n",
       "    </tr>\n",
       "    <tr>\n",
       "      <th>Date</th>\n",
       "      <th></th>\n",
       "      <th></th>\n",
       "      <th></th>\n",
       "      <th></th>\n",
       "      <th></th>\n",
       "      <th></th>\n",
       "    </tr>\n",
       "  </thead>\n",
       "  <tbody>\n",
       "    <tr>\n",
       "      <th>2021-09-01</th>\n",
       "      <td>17225.75</td>\n",
       "      <td>17055.050781</td>\n",
       "      <td>17185.599609</td>\n",
       "      <td>17076.25</td>\n",
       "      <td>301900</td>\n",
       "      <td>17076.25</td>\n",
       "    </tr>\n",
       "  </tbody>\n",
       "</table>\n",
       "</div>"
      ],
      "text/plain": [
       "                High           Low          Open     Close  Volume  Adj Close\n",
       "Date                                                                         \n",
       "2021-09-01  17225.75  17055.050781  17185.599609  17076.25  301900   17076.25"
      ]
     },
     "execution_count": 12,
     "metadata": {},
     "output_type": "execute_result"
    }
   ],
   "source": [
    "df_NIFTY=web.DataReader('^NSEI','yahoo',START,END)\n",
    "df_NIFTY.head()"
   ]
  },
  {
   "cell_type": "code",
   "execution_count": 13,
   "id": "6e764531",
   "metadata": {},
   "outputs": [
    {
     "name": "stdout",
     "output_type": "stream",
     "text": [
      "Date\n",
      "2021-09-01   -0.006363\n",
      "dtype: float64\n"
     ]
    }
   ],
   "source": [
    "pct_change_nifty_on_1sept = (df_NIFTY['Close'] -df_NIFTY['Open'])/(df_NIFTY['Open'])\n",
    "print(pct_change_nifty_on_1sept)"
   ]
  },
  {
   "cell_type": "code",
   "execution_count": 15,
   "id": "4d33d9ae",
   "metadata": {},
   "outputs": [
    {
     "name": "stdout",
     "output_type": "stream",
     "text": [
      "Date\n",
      "2021-09-01   -0.001421\n",
      "dtype: float64\n"
     ]
    }
   ],
   "source": [
    "calculated_pct_change_bajaj_on_1sept = ( beta * pct_change_nifty_on_1sept) + alpha\n",
    "print(calculated_pct_change_bajaj_on_1sept)"
   ]
  },
  {
   "cell_type": "code",
   "execution_count": 16,
   "id": "3eb461fc",
   "metadata": {},
   "outputs": [
    {
     "name": "stdout",
     "output_type": "stream",
     "text": [
      "Actual Close is :  Date\n",
      "2021-09-01    7519.600098\n",
      "Name: Close, dtype: float64\n",
      "Calculated close is : Date\n",
      "2021-09-01    7514.303809\n",
      "dtype: float64\n"
     ]
    }
   ],
   "source": [
    "expected_close_of_bajaj_on_1sept = df_BAJAJ['Open']*((calculated_pct_change_bajaj_on_1sept) + 1)\n",
    "print(\"Actual Close is : \",df_BAJAJ['Close'])\n",
    "print(\"Calculated close is :\",expected_close_of_bajaj_on_1sept)"
   ]
  },
  {
   "cell_type": "code",
   "execution_count": null,
   "id": "97c279f3",
   "metadata": {},
   "outputs": [],
   "source": []
  },
  {
   "cell_type": "code",
   "execution_count": null,
   "id": "5945d192",
   "metadata": {},
   "outputs": [],
   "source": []
  }
 ],
 "metadata": {
  "kernelspec": {
   "display_name": "Python 3 (ipykernel)",
   "language": "python",
   "name": "python3"
  },
  "language_info": {
   "codemirror_mode": {
    "name": "ipython",
    "version": 3
   },
   "file_extension": ".py",
   "mimetype": "text/x-python",
   "name": "python",
   "nbconvert_exporter": "python",
   "pygments_lexer": "ipython3",
   "version": "3.9.12"
  }
 },
 "nbformat": 4,
 "nbformat_minor": 5
}
